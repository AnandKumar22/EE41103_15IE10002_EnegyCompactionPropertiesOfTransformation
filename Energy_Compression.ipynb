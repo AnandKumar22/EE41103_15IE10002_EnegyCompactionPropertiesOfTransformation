{
 "cells": [
  {
   "cell_type": "code",
   "execution_count": 1,
   "metadata": {
    "colab": {},
    "colab_type": "code",
    "id": "QZbNC1ILIYqK"
   },
   "outputs": [],
   "source": [
    "import numpy as np\n",
    "from __future__ import division\n",
    "import matplotlib.pyplot as plt\n",
    "import sys\n",
    "import cmath\n",
    "import math"
   ]
  },
  {
   "cell_type": "code",
   "execution_count": 2,
   "metadata": {
    "colab": {},
    "colab_type": "code",
    "id": "LflRHu9fIbQi"
   },
   "outputs": [],
   "source": [
    "def generalised_transform(transform_type,x):\n",
    "    N=len(x)\n",
    "    #print(N)\n",
    "    if transform_type==0:\n",
    "        gtm=dft(N)\n",
    "        #print(gtm)\n",
    "    if transform_type==1:\n",
    "        gtm=dcft(N)\n",
    "        #print(gtm)\n",
    "    if transform_type==2:\n",
    "        gtm=haar(N)\n",
    "        #print(gtm)\n",
    "    return gtm*x    \n",
    "        \n",
    "        \n"
   ]
  },
  {
   "cell_type": "code",
   "execution_count": 3,
   "metadata": {
    "colab": {},
    "colab_type": "code",
    "id": "JDV6CXpKIgFp"
   },
   "outputs": [],
   "source": [
    "def generalised_inverse_transform(transform_type,X):\n",
    "    N=len(X)\n",
    "    #print(N)\n",
    "    if transform_type==0:\n",
    "        igtm=idft(N)\n",
    "    if transform_type==1:\n",
    "        igtm=idcft(N)\n",
    "    if transform_type==2:\n",
    "        igtm=ihaar(N)\n",
    "    return igtm*X "
   ]
  },
  {
   "cell_type": "code",
   "execution_count": 4,
   "metadata": {
    "colab": {},
    "colab_type": "code",
    "id": "AjHMEUwsIiQ7"
   },
   "outputs": [],
   "source": [
    "def dft(N):#returns dft matrix\n",
    "    dft_matrix=np.empty([N,N],dtype=np.complex_)\n",
    "    dft_matrix=np.matrix(dft_matrix)\n",
    "    indices=np.arange(0,N,1)\n",
    "    for k in indices:\n",
    "        for n in indices:\n",
    "            dft_matrix[k,n]=np.exp(-(1j)*2*np.pi*k*n/N)\n",
    "        \n",
    "    return dft_matrix"
   ]
  },
  {
   "cell_type": "code",
   "execution_count": 5,
   "metadata": {
    "colab": {},
    "colab_type": "code",
    "id": "UPl11MiXIp8c"
   },
   "outputs": [],
   "source": [
    "def idft(N):#returns idft matrix\n",
    "    idft_matrix=np.empty([N,N],dtype=np.complex_)\n",
    "    idft_matrix=np.matrix(idft_matrix)\n",
    "    indices=np.arange(0,N,1)\n",
    "    for k in indices:\n",
    "        for n in indices:\n",
    "            idft_matrix[k,n]=np.exp((1j)*2*np.pi*k*n/N)\n",
    "    idft_matrix=idft_matrix/N        \n",
    "    return idft_matrix"
   ]
  },
  {
   "cell_type": "code",
   "execution_count": 6,
   "metadata": {
    "colab": {},
    "colab_type": "code",
    "id": "7egp2ErFItV-"
   },
   "outputs": [],
   "source": [
    "def dcft(N):#returns dcft matrix\n",
    "    dcft_matrix=np.empty([N,N],dtype=np.complex_)\n",
    "    dcft_matrix=np.matrix(dcft_matrix)\n",
    "    indices=np.arange(0,N,1)\n",
    "    for k in indices:\n",
    "        for n in indices:\n",
    "            dcft_matrix[k,n]=2*np.cos(np.pi*k*(2*n+1)/(2*N))\n",
    "        \n",
    "    return dcft_matrix"
   ]
  },
  {
   "cell_type": "code",
   "execution_count": 7,
   "metadata": {
    "colab": {},
    "colab_type": "code",
    "id": "KutWqFvgIvSo"
   },
   "outputs": [],
   "source": [
    "def idcft(N):#returns idcft matrix\n",
    "    idcft_matrix=np.empty([N,N],dtype=np.complex_)\n",
    "    idcft_matrix=np.matrix(idcft_matrix)\n",
    "    indices=np.arange(0,N,1)\n",
    "    for k in indices: \n",
    "        for n in indices:\n",
    "            if n==0:\n",
    "                alpha=0.5\n",
    "            else:\n",
    "                alpha=1\n",
    "            idcft_matrix[k,n]=alpha*np.cos(np.pi*n*(2*k+1)/(2*N))\n",
    "    idcft_matrix=idcft_matrix/N\n",
    "    return idcft_matrix"
   ]
  },
  {
   "cell_type": "code",
   "execution_count": 8,
   "metadata": {
    "colab": {},
    "colab_type": "code",
    "id": "t4wNgCgBI1uf"
   },
   "outputs": [],
   "source": [
    "def mse(transform_type,x,X,N):\n",
    "    err=[]\n",
    "    for l in range(0,N,1):\n",
    "        if transform_type==0:\n",
    "            Xm=xmdft(X,l,N)\n",
    "            xm=generalised_inverse_transform(0,Xm)\n",
    "        if transform_type==1:\n",
    "            Xm=xdcthaar(X,l,N)\n",
    "            xm=generalised_inverse_transform(1,Xm)\n",
    "        if transform_type==2:\n",
    "            Xm=xdcthaar(X,l,N)\n",
    "            xm=generalised_inverse_transform(2,Xm)\n",
    "        err=np.append(err,dot_product(x,xm,N))\n",
    "    return err "
   ]
  },
  {
   "cell_type": "code",
   "execution_count": 9,
   "metadata": {
    "colab": {},
    "colab_type": "code",
    "id": "AyrCJ01tI10p"
   },
   "outputs": [],
   "source": [
    "def xmdft(X,L,N):\n",
    "    for i in range(int((N+1-L)/2),int((N-1+L)/2)+1,1):\n",
    "        X[i]=0\n",
    "    return X    "
   ]
  },
  {
   "cell_type": "code",
   "execution_count": 10,
   "metadata": {
    "colab": {},
    "colab_type": "code",
    "id": "YFqWGeKSI131"
   },
   "outputs": [],
   "source": [
    "def dot_product(x,y,N):\n",
    "    err=x-y\n",
    "    errt=np.transpose(err)\n",
    "    errt=np.conjugate(errt)\n",
    "    \n",
    "    return errt*err/N\n"
   ]
  },
  {
   "cell_type": "code",
   "execution_count": 11,
   "metadata": {
    "colab": {},
    "colab_type": "code",
    "id": "ycjiO2g6I161"
   },
   "outputs": [],
   "source": [
    "def  xdcthaar(X,L,N):\n",
    "    for i in range(N-L,N):\n",
    "        X[i]=0\n",
    "    return X    "
   ]
  },
  {
   "cell_type": "code",
   "execution_count": 12,
   "metadata": {
    "colab": {},
    "colab_type": "code",
    "id": "SIykrfN7I19s"
   },
   "outputs": [],
   "source": [
    "def haar(N):\n",
    "    if N==2:\n",
    "        h2=np.matrix([[1,1],[1,-1]])\n",
    "        return h2\n",
    "    else:\n",
    "      v=np.log2(N)-1\n",
    "      h_u=np.kron(haar(2**(v)),[1,1])\n",
    "      h_l=np.kron(((2**(v/2))*np.eye(int(2**v))),[1,-1])\n",
    "      #print(h_u.shape,h_l.shape)\n",
    "      return np.concatenate((h_u,h_l),axis=0)"
   ]
  },
  {
   "cell_type": "code",
   "execution_count": 13,
   "metadata": {
    "colab": {
     "base_uri": "https://localhost:8080/",
     "height": 34
    },
    "colab_type": "code",
    "id": "HHXoMhzHaK_1",
    "outputId": "5432f5dc-c58a-40c3-f1e6-53723a64a12e"
   },
   "outputs": [
    {
     "data": {
      "text/plain": [
       "1.0"
      ]
     },
     "execution_count": 13,
     "metadata": {},
     "output_type": "execute_result"
    }
   ],
   "source": [
    "N = 4\n",
    "v=np.log2(N)-1\n",
    "v"
   ]
  },
  {
   "cell_type": "code",
   "execution_count": 14,
   "metadata": {
    "colab": {},
    "colab_type": "code",
    "id": "WQsZeTgvI2Ak"
   },
   "outputs": [],
   "source": [
    "def ihaar(N):\n",
    "    haar_matrix=haar(N)\n",
    "    return np.transpose(haar_matrix)/N"
   ]
  },
  {
   "cell_type": "code",
   "execution_count": 57,
   "metadata": {
    "colab": {
     "base_uri": "https://localhost:8080/",
     "height": 486
    },
    "colab_type": "code",
    "id": "Ixu8eOFkI1yp",
    "outputId": "7bf4770e-049f-456b-f2de-580d74402b7f"
   },
   "outputs": [
    {
     "name": "stdout",
     "output_type": "stream",
     "text": [
      "0\n",
      "(128,)\n",
      "1\n"
     ]
    },
    {
     "name": "stderr",
     "output_type": "stream",
     "text": [
      "/usr/local/lib/python3.6/dist-packages/numpy/core/numeric.py:492: ComplexWarning: Casting complex values to real discards the imaginary part\n",
      "  return array(a, dtype, copy=False, order=order)\n"
     ]
    },
    {
     "name": "stdout",
     "output_type": "stream",
     "text": [
      "(128,)\n",
      "2\n",
      "(128,)\n"
     ]
    },
    {
     "data": {
      "image/png": "[encoded data removed]",
      "text/plain": [
       "<matplotlib.figure.Figure at 0x7f7fc16b5c50>"
      ]
     },
     "metadata": {
      "tags": []
     },
     "output_type": "display_data"
    }
   ],
   "source": [
    "# input sequence generator\n",
    "length=128\n",
    "real=np.random.rand(length)\n",
    "img=np.random.rand(length)\n",
    "x=real+1j*img\n",
    "x=np.matrix(x)\n",
    "x=np.transpose(x)\n",
    "color=['r','g','b']\n",
    "for i in range(0,3,1):\n",
    "    X=generalised_transform(i,x)\n",
    "    print(i)#X\n",
    "    err=mse(i,x,X,length)\n",
    "    print(err.shape)\n",
    "    plt.plot(np.arange(0,length,1),err,color[i])\n",
    "\n",
    "#y=generalised_inverse_transform(0,X)\n",
    "\n"
   ]
  }
 ],
 "metadata": {
  "colab": {
   "name": "Untitled0.ipynb",
   "provenance": [],
   "version": "0.3.2"
  },
  "kernelspec": {
   "display_name": "Python 3",
   "language": "python",
   "name": "python3"
  },
  "language_info": {
   "codemirror_mode": {
    "name": "ipython",
    "version": 3
   },
   "file_extension": ".py",
   "mimetype": "text/x-python",
   "name": "python",
   "nbconvert_exporter": "python",
   "pygments_lexer": "ipython3",
   "version": "3.7.0"
  }
 },
 "nbformat": 4,
 "nbformat_minor": 1
}
